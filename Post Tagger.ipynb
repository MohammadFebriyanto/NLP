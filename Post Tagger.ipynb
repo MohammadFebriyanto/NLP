{
 "cells": [
  {
   "cell_type": "markdown",
   "metadata": {},
   "source": [
    "# Tugas 2: POST Tagging\n",
    "Kode untuk melakukan post tagging menggunakan metode: Baseline, Viterbi dan Klasifikasi."
   ]
  },
  {
   "cell_type": "code",
   "execution_count": 1,
   "metadata": {},
   "outputs": [],
   "source": [
    "# Import library yang diperlukan\n",
    "import numpy\n",
    "import io\n",
    "from itertools import permutations\n",
    "from sklearn.feature_extraction import DictVectorizer\n",
    "from sklearn.pipeline import Pipeline\n",
    "\n",
    "\n",
    "from sklearn.naive_bayes import MultinomialNB"
   ]
  },
  {
   "cell_type": "markdown",
   "metadata": {},
   "source": [
    "read training file and create "
   ]
  },
  {
   "cell_type": "code",
   "execution_count": 2,
   "metadata": {},
   "outputs": [],
   "source": [
    "# Membaca file dan proses init table\n",
    "def read_file_init_table(fname):\n",
    "    tag_count = {}\n",
    "    tag_count['<start>'] = 0\n",
    "    word_tag = {}\n",
    "    tag_trans = {}\n",
    "    with open(fname) as f:\n",
    "        content = f.readlines()\n",
    "    # you may also want to remove whitespace characters like `\\n` at the end of each line\n",
    "    content = [x.strip() for x in content]\n",
    "    idx_line = 0\n",
    "    is_first_word = 0\n",
    "    \n",
    "    while idx_line < len(content):\n",
    "        prev_tag = '<start>'\n",
    "        \n",
    "        while not content[idx_line].startswith('</kalimat'):\n",
    "            if  not content[idx_line].startswith('<kalimat'):\n",
    "                content_part = content[idx_line].split('\\t')\n",
    "                if content_part[1] in tag_count:\n",
    "                    tag_count[content_part[1]] += 1\n",
    "                else:\n",
    "                    tag_count[content_part[1]] = 1\n",
    "                    \n",
    "                current_word_tag = content_part[0].lower()+'|'+content_part[1]\n",
    "                if current_word_tag in word_tag:\n",
    "                    word_tag[current_word_tag] += 1\n",
    "                else:    \n",
    "                    word_tag[current_word_tag] = 1\n",
    "                    \n",
    "                if is_first_word == 1:\n",
    "                    current_tag_trans = '<start>,'+content_part[1]\n",
    "                    is_first_word = 0\n",
    "                else:\n",
    "                    current_tag_trans = prev_tag+','+content_part[1]\n",
    "                    \n",
    "                if current_tag_trans in tag_trans:\n",
    "                    tag_trans[current_tag_trans] += 1\n",
    "                else:\n",
    "                    tag_trans[current_tag_trans] = 1                    \n",
    "                prev_tag = content_part[1]   \n",
    "                \n",
    "            else:\n",
    "                tag_count['<start>'] += 1\n",
    "                is_first_word = 1\n",
    "            idx_line = idx_line + 1\n",
    "\n",
    "        idx_line = idx_line+1       \n",
    "    return tag_count, word_tag, tag_trans"
   ]
  },
  {
   "cell_type": "code",
   "execution_count": 3,
   "metadata": {},
   "outputs": [],
   "source": [
    "# Memanggil fungsi init table yang dibangun dari dataset. Init table menghasilkan: tag count, word tag dan jumlahnya dan tag transition dari satu tag ke tag lain\n",
    "\n",
    "tag_count, word_tag, tag_trans = read_file_init_table('Indonesian_Manually_Tagged_Corpus_ID.tsv')"
   ]
  },
  {
   "cell_type": "code",
   "execution_count": 4,
   "metadata": {},
   "outputs": [],
   "source": [
    "# Fungsi untuk membangun tabel transition yang berisikan probabilitynya\n",
    "def create_trans_prob_table(tag_trans, tag_count):\n",
    "    trans_prob = {}\n",
    "    for tag1 in tag_count.keys():\n",
    "        for tag2 in tag_count.keys():\n",
    "            trans_idx = tag1+','+tag2\n",
    "            if trans_idx in tag_trans:\n",
    "                trans_prob[trans_idx] = tag_trans[trans_idx]/tag_count[tag1]\n",
    "    return trans_prob"
   ]
  },
  {
   "cell_type": "code",
   "execution_count": 5,
   "metadata": {},
   "outputs": [],
   "source": [
    "trans_prob = create_trans_prob_table(tag_trans, tag_count)"
   ]
  },
  {
   "cell_type": "code",
   "execution_count": 6,
   "metadata": {},
   "outputs": [],
   "source": [
    "# Fungsi untuk membangun tabel emission\n",
    "def create_emission_prob_table(word_tag, tag_count):\n",
    "    emission_prob = {}\n",
    "    for word_tag_entry in word_tag.keys():\n",
    "        word_tag_split = word_tag_entry.split('|')\n",
    "        current_word = word_tag_split[0]\n",
    "        current_tag = word_tag_split[1]\n",
    "        emission_key = current_word+','+current_tag\n",
    "        emission_prob[emission_key] = word_tag[word_tag_entry]/tag_count[current_tag]    \n",
    "    return emission_prob"
   ]
  },
  {
   "cell_type": "code",
   "execution_count": 7,
   "metadata": {},
   "outputs": [],
   "source": [
    "emission_prob = create_emission_prob_table(word_tag, tag_count)"
   ]
  },
  {
   "cell_type": "code",
   "execution_count": 8,
   "metadata": {},
   "outputs": [],
   "source": [
    "# Fungsi untuk mencari tag dari suatu kata pada kalimat menggunakan viterbi.\n",
    "\n",
    "def viterbi(trans_prob, emission_prob, tag_count, sentence):\n",
    "    #initialization\n",
    "    viterbi_mat = {}\n",
    "    tag_sequence = []\n",
    "    \n",
    "    max_before = {}\n",
    "    for tag in tag_count:\n",
    "        max_before[tag] = 1\n",
    "    \n",
    "    sentence_words = sentence#.split()\n",
    "    for i in range(0,len(sentence_words)):\n",
    "        # print(sentence_words[i])\n",
    "        word_check = sentence_words[i]\n",
    "        for tag in tag_count:\n",
    "            max_curr = 0\n",
    "            for tag2 in tag_count:\n",
    "                # Kalkulasi viterbi, nilai probability dari kata sebelumnya * transisi * emisi\n",
    "                cal = max_before.get(tag2, 1) * trans_prob.get( tag + ','+  tag2, 1) * emission_prob.get(sentence_words[i] + ',' + str(tag), 1)\n",
    "                if (max_curr < cal):\n",
    "                    max_curr = cal\n",
    "            max_before[tag] = max_curr\n",
    "            \n",
    "            \n",
    "        max_output = max_before.copy()\n",
    "        max_value = {}\n",
    "        max_value['max'] = 0\n",
    "        max_value['tag'] = ''\n",
    "        max_value['word'] = word_check\n",
    "        # mencari nilai maksimum probability suatu kata pada setiap kata pada kalimat.\n",
    "        for j in max_output:\n",
    "            if ((max_output[j] < 1) and (max_output[j] > max_value['max'])  ):\n",
    "                max_value['max'] = max_output[j]\n",
    "                max_value['tag'] = j\n",
    "        # probability tertinggi merupakan tag dari kata tersebut\n",
    "        tag_sequence.append(max_value)\n",
    "        \n",
    "    # Mengembalikan tag dari setiap kata dalam bentuk list\n",
    "    return tag_sequence"
   ]
  },
  {
   "cell_type": "code",
   "execution_count": 9,
   "metadata": {},
   "outputs": [],
   "source": [
    "# Membaca data test\n",
    "def read_datatest_viterbi(fname):\n",
    "    sentences = []\n",
    "    tags = []\n",
    "    with open(fname) as f:\n",
    "        content = f.readlines()\n",
    "    content = [x.strip() for x in content]\n",
    "    idx_line = 0\n",
    "    while idx_line < len(content):\n",
    "        sent = []\n",
    "        tag = []\n",
    "        while not content[idx_line].startswith('</kalimat'):\n",
    "            if  not content[idx_line].startswith('<kalimat'):\n",
    "                content_part = content[idx_line].split('\\t')\n",
    "                sent.append(content_part[0])\n",
    "                tag.append(content_part[1])\n",
    "            idx_line = idx_line + 1\n",
    "        sentences.append(sent)\n",
    "        tags.append(tag)\n",
    "        idx_line = idx_line+2        \n",
    "    return sentences, tags"
   ]
  },
  {
   "cell_type": "raw",
   "metadata": {},
   "source": [
    "#load datatest\n",
    "sentences, tags = read_datatest_viterbi('Indonesian_Manually_Tagged_Corpus_ID.tsv')\n",
    "tags_persentence = []\n",
    "\n",
    "# lowercase semua kata pada datatest\n",
    "for sentence in range(len(sentences)):\n",
    "    for word in range(len(sentences[sentence])):\n",
    "        sentences[sentence][word] = sentences[sentence][word].lower()\n",
    "        \n",
    "# mulai penghitungan viterbi dengan memanggil fungsi viterbit\n",
    "for i in range(len(sentences)) :\n",
    "    tags_predict = viterbi(trans_prob, emission_prob, tag_count, sentences[i])\n",
    "    tags_persentence.append(tags_predict)\n",
    "   "
   ]
  },
  {
   "cell_type": "code",
   "execution_count": 10,
   "metadata": {},
   "outputs": [
    {
     "ename": "NameError",
     "evalue": "name 'tags' is not defined",
     "output_type": "error",
     "traceback": [
      "\u001b[0;31m---------------------------------------------------------------------------\u001b[0m",
      "\u001b[0;31mNameError\u001b[0m                                 Traceback (most recent call last)",
      "\u001b[0;32m<ipython-input-10-e94a79015fb9>\u001b[0m in \u001b[0;36m<module>\u001b[0;34m()\u001b[0m\n\u001b[1;32m      2\u001b[0m \u001b[0my_test\u001b[0m \u001b[0;34m=\u001b[0m \u001b[0;34m[\u001b[0m\u001b[0;34m]\u001b[0m\u001b[0;34m\u001b[0m\u001b[0;34m\u001b[0m\u001b[0m\n\u001b[1;32m      3\u001b[0m \u001b[0mi\u001b[0m \u001b[0;34m=\u001b[0m \u001b[0;36m0\u001b[0m\u001b[0;34m\u001b[0m\u001b[0;34m\u001b[0m\u001b[0m\n\u001b[0;32m----> 4\u001b[0;31m \u001b[0;32mfor\u001b[0m \u001b[0mtagss\u001b[0m \u001b[0;32min\u001b[0m \u001b[0mtags\u001b[0m\u001b[0;34m:\u001b[0m\u001b[0;34m\u001b[0m\u001b[0;34m\u001b[0m\u001b[0m\n\u001b[0m\u001b[1;32m      5\u001b[0m     \u001b[0;32mfor\u001b[0m \u001b[0mtag\u001b[0m \u001b[0;32min\u001b[0m \u001b[0mtagss\u001b[0m\u001b[0;34m:\u001b[0m\u001b[0;34m\u001b[0m\u001b[0;34m\u001b[0m\u001b[0m\n\u001b[1;32m      6\u001b[0m         \u001b[0my_test\u001b[0m\u001b[0;34m.\u001b[0m\u001b[0mappend\u001b[0m\u001b[0;34m(\u001b[0m\u001b[0mtag\u001b[0m\u001b[0;34m)\u001b[0m\u001b[0;34m\u001b[0m\u001b[0;34m\u001b[0m\u001b[0m\n",
      "\u001b[0;31mNameError\u001b[0m: name 'tags' is not defined"
     ]
    }
   ],
   "source": [
    "# persiapkan y_test yang merupakan tag asli dari kata\n",
    "y_test = []\n",
    "i = 0\n",
    "for tagss in tags:\n",
    "    for tag in tagss:\n",
    "        y_test.append(tag)\n",
    "        i+= 1\n",
    "        \n",
    "print(i)"
   ]
  },
  {
   "cell_type": "code",
   "execution_count": null,
   "metadata": {},
   "outputs": [],
   "source": [
    "# persiapkan y_predict yang merupakan tag prediksi dari model viterbi suatu kata\n",
    "i = 0\n",
    "y_predict = []\n",
    "for tags in tags_persentence:\n",
    "    for tag in tags:\n",
    "        y_predict.append(tag)\n",
    "        i+= 1\n",
    "        \n",
    "print(i)"
   ]
  },
  {
   "cell_type": "code",
   "execution_count": null,
   "metadata": {},
   "outputs": [],
   "source": [
    "correct = 0\n",
    "for i in range(len(y_test)):\n",
    "    # jika tag suatu kata tidak dapat diprediksi oleh model viterbi \n",
    "    # karena kata tersebut tidak terkandung pada data latih, \n",
    "    # maka gunakan model baseline untuk mencari tag kata tersebut\n",
    "    # jika model baseline tidak dapat manangani kata tersebut, secara otomatis di set menjadi NN\n",
    "    if (y_predict[i]['tag'] == ''):\n",
    "        try:\n",
    "            y_predict[i]['tag']  = findTag(y_predict[i]['word'])\n",
    "        except:\n",
    "            y_predict[i]['tag']  = 'NN'\n",
    "        \n",
    "    if y_test[i] == y_predict[i]['tag']:\n",
    "        correct += 1\n",
    "print('Akurasi viterbi: ',correct / 499 * 100)\n",
    "\n",
    "# print(y_predict)"
   ]
  },
  {
   "cell_type": "markdown",
   "metadata": {},
   "source": [
    "## Model viterbi menghasilkan akurasi 86.97% \n",
    "akurasi lebih baik dari model baseline, karena viterbi memperhatikan probability kata sebelumnya"
   ]
  },
  {
   "cell_type": "markdown",
   "metadata": {},
   "source": [
    "# BASELINE"
   ]
  },
  {
   "cell_type": "code",
   "execution_count": null,
   "metadata": {},
   "outputs": [],
   "source": [
    "# Fungsi untuk mencari semua tag yang ada\n",
    "def getTagThatPossible(word):\n",
    "    collection = []\n",
    "    for item in emission_prob:\n",
    "        if (item.split(',')[0] == word):\n",
    "            collection.append(item.split(',')[1])\n",
    "    return collection"
   ]
  },
  {
   "cell_type": "code",
   "execution_count": null,
   "metadata": {},
   "outputs": [],
   "source": [
    "# Model baseline dengan mencari kemunculan tag terbanyak suatu kata\n",
    "def findTag(word):\n",
    "    possibleTag = getTagThatPossible(word)\n",
    "    maxProb = 0\n",
    "    maxTag = ''\n",
    "    for item in possibleTag:\n",
    "        key = word + ',' + item\n",
    "        if (emission_prob.get(key, 0) > maxProb):\n",
    "            maxTag = item \n",
    "    return maxTag"
   ]
  },
  {
   "cell_type": "code",
   "execution_count": null,
   "metadata": {},
   "outputs": [],
   "source": [
    "sentences, tags = read_datatest_viterbi('dataset_test.tsv')\n",
    "tags_predict = []\n",
    "\n",
    "# mulai penghitungan baseline\n",
    "\n",
    "for sentence in range(len(sentences)):\n",
    "    for word in range(len(sentences[sentence])):\n",
    "        word =  sentences[sentence][word].lower()\n",
    "        tags_predict.append(findTag(word))        \n",
    "\n",
    "y_predict = tags_predict"
   ]
  },
  {
   "cell_type": "code",
   "execution_count": null,
   "metadata": {},
   "outputs": [],
   "source": [
    "# Persiapkan data test untuk menghitung akurasi\n",
    "y_test = []\n",
    "i = 0\n",
    "for tagss in tags:\n",
    "    for tag in tagss:\n",
    "        y_test.append(tag)\n",
    "        i+= 1\n",
    "        \n",
    "print(i)"
   ]
  },
  {
   "cell_type": "code",
   "execution_count": null,
   "metadata": {},
   "outputs": [],
   "source": [
    "# Hitung akurasi dari model baseline\n",
    "correct = 0\n",
    "for i in range(len(y_test)):\n",
    "    if (y_predict[i] == ''):\n",
    "        y_predict[i]  = 'NN'\n",
    "        \n",
    "    if y_test[i] == y_predict[i]:\n",
    "        correct += 1\n",
    "print('Akurasi Baseline: ',correct / 499 * 100)"
   ]
  },
  {
   "cell_type": "markdown",
   "metadata": {},
   "source": [
    "### Akurasi baseline: 67.73 %, dibawah dari model viterbi dan klasifikasi"
   ]
  },
  {
   "cell_type": "markdown",
   "metadata": {},
   "source": [
    "## KLASIFIKASI"
   ]
  },
  {
   "cell_type": "code",
   "execution_count": null,
   "metadata": {},
   "outputs": [],
   "source": [
    "# baca dataset\n",
    "def read_dataset(fname):\n",
    "    sentences = []\n",
    "    tags = []\n",
    "    with open(fname) as f:\n",
    "        content = f.readlines()\n",
    "    content = [x.strip() for x in content]\n",
    "    idx_line = 0\n",
    "    while idx_line < len(content):\n",
    "        sent = []\n",
    "        tag = []\n",
    "        while not content[idx_line].startswith('</kalimat'):\n",
    "            if  not content[idx_line].startswith('<kalimat'):\n",
    "                content_part = content[idx_line].split('\\t')\n",
    "                sent.append(content_part[0])\n",
    "                tag.append(content_part[1])\n",
    "            idx_line = idx_line + 1\n",
    "        sentences.append(sent)\n",
    "        tags.append(tag)\n",
    "        idx_line = idx_line+2        \n",
    "    return sentences, tags\n",
    "\n",
    "# ekstraksi fitur yang digunakan, fitur- fitur yang digunakan adalah:\n",
    "# kata tersebut secara utuh\n",
    "# prefix ke 1\n",
    "# prefix ke 1&2\n",
    "# prefix ke 1-3\n",
    "# suffix ke 1\n",
    "# suffix ke 1&2\n",
    "# suffix ke 1-3\n",
    "# kata sebelumnya\n",
    "# kata setelahnya\n",
    "def features(sentence, index):\n",
    "    \"\"\" sentence: [w1, w2, ...], index: the index of the word \"\"\"\n",
    "    return {\n",
    "        'word': sentence[index],\n",
    "        'prefix-1': sentence[index][0],\n",
    "        'prefix-2': sentence[index][:2],\n",
    "        'prefix-3': sentence[index][:3],\n",
    "        'suffix-1': sentence[index][-1],\n",
    "        'suffix-2': sentence[index][-2:],\n",
    "        'suffix-3': sentence[index][-3:],\n",
    "        'prev_word': '' if index == 0 else sentence[index - 1],\n",
    "        'next_word': '' if index == len(sentence) - 1 else sentence[index + 1],\n",
    "    }\n",
    "\n",
    "\n",
    " \n",
    "def transform_to_dataset(sentences, tags):\n",
    "    X, y = [], []\n",
    " \n",
    "    for sentence_idx in range(len(sentences)):\n",
    "        for index in range(len(sentences[sentence_idx])):\n",
    "            X.append(features(sentences[sentence_idx], index))\n",
    "            y.append(tags[sentence_idx][index])\n",
    " \n",
    "    return X, y"
   ]
  },
  {
   "cell_type": "code",
   "execution_count": null,
   "metadata": {},
   "outputs": [],
   "source": [
    "# load data latih dan data train\n",
    "sentences,tags = read_dataset('dataset_train.tsv')\n",
    "sentences_test,tags_test = read_dataset('dataset_test.tsv') "
   ]
  },
  {
   "cell_type": "code",
   "execution_count": null,
   "metadata": {},
   "outputs": [],
   "source": [
    "# ubah data latih ke dalam bentuk dataset yang dapat digunakan\n",
    "X, y = transform_to_dataset(sentences, tags)\n",
    "X_test, y_test = transform_to_dataset(sentences_test, tags_test)"
   ]
  },
  {
   "cell_type": "code",
   "execution_count": null,
   "metadata": {},
   "outputs": [],
   "source": [
    "# Klasifier yang digunakan adalah Multinomial Naive Bayes\n",
    "clf = Pipeline([\n",
    "    ('vectorizer', DictVectorizer(sparse=False)),\n",
    "    ('classifier',   MultinomialNB())\n",
    "])\n",
    "\n",
    "# latih classifier dengan data train\n",
    "clf.fit(X, y) "
   ]
  },
  {
   "cell_type": "code",
   "execution_count": null,
   "metadata": {},
   "outputs": [],
   "source": [
    "# hitung score dari data model kepada data test\n",
    "print('Akurasi Naive Bayes: ', clf.score(X_test, y_test) * 100)\n"
   ]
  },
  {
   "cell_type": "markdown",
   "metadata": {},
   "source": [
    "## Akurasi dari model klasifikasi adalah 94.98\n",
    "Akurasi tertinggi jika dibanginkan dengan model baseline dan viterbi, hal tersebut dimungkinkan karena pada baseline tidak memperhatikan kata sebelum/ setelah/ imbuhannya sedangkan pada viterbi memperhatikan kata sebelumnya dapat dilihat dari penghitungannya melibatkan nilai dari kata sebelumnya. Pada model klasifikasi menggunakan fitur kata sebelum, kata setelah dan prefix & suffix / imbuhan, sehingga model klasifikasi dapat menghasilkan akurasi yang lebih baik jika dibanginkan dengan model lainnya."
   ]
  },
  {
   "cell_type": "code",
   "execution_count": null,
   "metadata": {},
   "outputs": [],
   "source": []
  },
  {
   "cell_type": "code",
   "execution_count": null,
   "metadata": {},
   "outputs": [],
   "source": []
  }
 ],
 "metadata": {
  "kernelspec": {
   "display_name": "Python 3",
   "language": "python",
   "name": "python3"
  },
  "language_info": {
   "codemirror_mode": {
    "name": "ipython",
    "version": 3
   },
   "file_extension": ".py",
   "mimetype": "text/x-python",
   "name": "python",
   "nbconvert_exporter": "python",
   "pygments_lexer": "ipython3",
   "version": "3.6.10"
  }
 },
 "nbformat": 4,
 "nbformat_minor": 2
}
